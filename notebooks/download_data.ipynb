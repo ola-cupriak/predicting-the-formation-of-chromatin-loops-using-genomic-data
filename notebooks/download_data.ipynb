{
 "cells": [
  {
   "cell_type": "code",
   "execution_count": 41,
   "metadata": {},
   "outputs": [
    {
     "name": "stdout",
     "output_type": "stream",
     "text": [
      "ENCFF672BMB.bed.gz'\n"
     ]
    }
   ],
   "source": [
    "import subprocess\n",
    "\n",
    "process = subprocess.check_output('wget --server-response -q -O - \"https://www.encodeproject.org/files/ENCFF672BMB/@@download/ENCFF672BMB.bed.gz\" 2>&1 |  grep \"Content-Disposition:\" | tail -1', \n",
    "                     shell=True) \n",
    "print(str(process.strip()).split('filename=')[1])"
   ]
  },
  {
   "cell_type": "code",
   "execution_count": 1,
   "metadata": {},
   "outputs": [
    {
     "data": {
      "text/plain": [
       "{4}"
      ]
     },
     "execution_count": 1,
     "metadata": {},
     "output_type": "execute_result"
    }
   ],
   "source": [
    "a = set([1,2,3])\n",
    "b = set([1,2,3,4])\n",
    "b-a"
   ]
  }
 ],
 "metadata": {
  "kernelspec": {
   "display_name": "mgr",
   "language": "python",
   "name": "python3"
  },
  "language_info": {
   "codemirror_mode": {
    "name": "ipython",
    "version": 3
   },
   "file_extension": ".py",
   "mimetype": "text/x-python",
   "name": "python",
   "nbconvert_exporter": "python",
   "pygments_lexer": "ipython3",
   "version": "3.9.11"
  },
  "orig_nbformat": 4
 },
 "nbformat": 4,
 "nbformat_minor": 2
}
