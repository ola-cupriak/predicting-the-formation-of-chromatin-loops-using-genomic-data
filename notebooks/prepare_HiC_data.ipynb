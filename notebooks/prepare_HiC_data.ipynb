{
 "cells": [
  {
   "cell_type": "code",
   "execution_count": 1,
   "metadata": {},
   "outputs": [],
   "source": [
    "import pandas as pd\n",
    "import numpy as np\n",
    "from matplotlib import pyplot as plt\n",
    "from tqdm import tqdm\n",
    "import os\n",
    "import copy\n",
    "import math"
   ]
  },
  {
   "cell_type": "code",
   "execution_count": 26,
   "metadata": {},
   "outputs": [],
   "source": [
    "files_list = os.listdir('../data/01_raw/HiCCUPS_looplist/')\n",
    "files_list = [x for x in files_list if x[0] != '.']\n",
    "files_list = ['../data/01_raw/HiCCUPS_looplist/' + x for x in files_list]\n",
    "cell_types = [x.split('_')[-3] for x in files_list]"
   ]
  },
  {
   "cell_type": "code",
   "execution_count": 28,
   "metadata": {},
   "outputs": [],
   "source": [
    "def read_HiCCUPS_file(path: str, cell_type: str) -> pd.DataFrame:\n",
    "    \"\"\"\n",
    "    Read HiCCUPS file and return a dataframe with the following columns:\n",
    "        x, y, chr, cell_type\n",
    "    \"\"\"\n",
    "    df = pd.read_csv(path, sep='\\t')\n",
    "    f1 = lambda x: x['chr1'].split(\"chr\")[-1]\n",
    "    f2 = lambda x: x['chr2'].split(\"chr\")[-1]\n",
    "    df[\"chr1\"] = df.apply(f1, axis=1)\n",
    "    df[\"chr2\"] = df.apply(f2, axis=1)\n",
    "    assert len(df[df['chr1']!=df['chr2']]) == 0\n",
    "    df.rename(columns={'chr1': 'chr'}, inplace=True)\n",
    "    df['x'] = round((df['x1'] + df['x2'])/2)\n",
    "    df['y'] = round((df['y1'] + df['y2'])/2)\n",
    "    df['x_len'] = df['x2'] - df['x1']\n",
    "    df['y_len'] = df['y2'] - df['y1']\n",
    "    df['distance'] = df['y1'] - df['x2']\n",
    "    df['cell_type'] = cell_type\n",
    "    df = df[df.columns.intersection(['x', 'y', 'chr', 'cell_type', 'x1', 'x2', 'y1', 'y2', 'x_len', 'y_len', 'distance'])]\n",
    "    df = df.sort_values(by=['x'])\n",
    "\n",
    "    return df"
   ]
  },
  {
   "cell_type": "code",
   "execution_count": 33,
   "metadata": {},
   "outputs": [
    {
     "data": {
      "text/plain": [
       "{'GSE63525_GM12878_primary+replicate_HiCCUPS_looplist.txt': (array([ 5000, 10000]),\n",
       "  array([ 5000, 10000]),\n",
       "  270000.0),\n",
       " 'GSE63525_K562_HiCCUPS_looplist.txt': (array([ 5000, 10000, 25000]),\n",
       "  array([ 5000, 10000, 25000]),\n",
       "  250000.0),\n",
       " 'GSE63525_IMR90_HiCCUPS_looplist.txt': (array([ 5000, 10000]),\n",
       "  array([ 5000, 10000]),\n",
       "  210000.0),\n",
       " 'GSE63525_HUVEC_HiCCUPS_looplist.txt': (array([ 5000, 10000, 25000]),\n",
       "  array([ 5000, 10000, 25000]),\n",
       "  240000.0),\n",
       " 'GSE63525_HMEC_HiCCUPS_looplist.txt': (array([ 5000, 10000]),\n",
       "  array([ 5000, 10000]),\n",
       "  145000.0),\n",
       " 'GSE63525_NHEK_HiCCUPS_looplist.txt': (array([ 5000, 10000, 25000]),\n",
       "  array([ 5000, 10000, 25000]),\n",
       "  250000.0),\n",
       " 'GSE63525_KBM7_HiCCUPS_looplist.txt': (array([ 5000, 10000, 25000]),\n",
       "  array([ 5000, 10000, 25000]),\n",
       "  250000.0),\n",
       " 'GSE63525_HeLa_HiCCUPS_looplist.txt': (array([ 5000, 10000, 25000]),\n",
       "  array([ 5000, 10000, 25000]),\n",
       "  200000.0)}"
      ]
     },
     "execution_count": 33,
     "metadata": {},
     "output_type": "execute_result"
    }
   ],
   "source": [
    "loops = os.listdir('../data/01_raw/HiC_loops_annotations/')\n",
    "values = {}\n",
    "for file in loops:\n",
    "    if not file.startswith('.'):\n",
    "        df = read_HiCCUPS_file('../data/01_raw/HiC_loops_annotations/'+file, 'Non')\n",
    "        values[file] = (np.unique(df['y_len']), np.unique(df['x_len']), np.median(df['distance']))\n",
    "\n",
    "values"
   ]
  },
  {
   "cell_type": "code",
   "execution_count": 51,
   "metadata": {},
   "outputs": [],
   "source": [
    "dfs = [read_HiCCUPS_file(x, y) for x, y in zip(files_list, cell_types)]\n"
   ]
  },
  {
   "cell_type": "code",
   "execution_count": 38,
   "metadata": {},
   "outputs": [],
   "source": [
    "def concat_dfs(dfs: list) -> pd.DataFrame:\n",
    "    \"\"\"\n",
    "    Concatenate a list of dataframes\n",
    "    \"\"\"\n",
    "    df = pd.concat(dfs)\n",
    "    df = df.sort_values(by=['x'])\n",
    "    return df"
   ]
  },
  {
   "cell_type": "code",
   "execution_count": 40,
   "metadata": {},
   "outputs": [],
   "source": [
    "df = concat_dfs(dfs)"
   ]
  },
  {
   "cell_type": "code",
   "execution_count": 47,
   "metadata": {},
   "outputs": [],
   "source": [
    "def add_labels_and_save(df: pd.DataFrame) -> None:\n",
    "    \"\"\"\n",
    "    Creates as many file as cell types in the dataframe.\n",
    "    \"\"\"\n",
    "    cell_types = df['cell_type'].unique()\n",
    "    for cell_type in cell_types:\n",
    "        f = lambda x: 1 if x['cell_type'] == cell_type else 0\n",
    "        df['label'] = df.apply(f, axis=1)\n",
    "        df.to_csv('../data/02_intermediate/HiCCUPS_looplist/'+cell_type+'.csv', index=False)"
   ]
  },
  {
   "cell_type": "code",
   "execution_count": 48,
   "metadata": {},
   "outputs": [],
   "source": [
    "add_labels_and_save(df)"
   ]
  },
  {
   "cell_type": "code",
   "execution_count": 11,
   "metadata": {},
   "outputs": [],
   "source": [
    "def add_negative_samples(positive_df, negative_df, path, n=50000):\n",
    "    \n",
    "    positive_df['centroid1_interval'] = positive_df['centroid1'].apply(lambda x: pd.Interval(x-n, x+n, closed='both'))\n",
    "    negative_df['centroid1_interval'] = negative_df['centroid1'].apply(lambda x: pd.Interval(x-n, x+n, closed='both'))\n",
    "    positive_df['centroid2_interval'] = positive_df['centroid2'].apply(lambda x: pd.Interval(x-n, x+n, closed='both'))\n",
    "    negative_df['centroid2_interval'] = negative_df['centroid2'].apply(lambda x: pd.Interval(x-n, x+n, closed='both'))\n",
    "\n",
    "    positive_df['label'] = 1\n",
    "    negative_df['label'] = 0\n",
    "\n",
    "    final_df = copy.deepcopy(positive_df)\n",
    "\n",
    "    pos_groups = positive_df.groupby(['chr'])\n",
    "    neg_groups = negative_df.groupby(['chr'])\n",
    "\n",
    "    for chr in tqdm(pos_groups.groups.keys()):\n",
    "        pos_chr = pos_groups.get_group(chr)\n",
    "        neg_chr = neg_groups.get_group(chr)\n",
    "\n",
    "        for i in tqdm(range(len(neg_chr))):\n",
    "             for j in range(len(pos_chr)):\n",
    "                if pos_chr.iloc[j]['centroid1_interval'].left > neg_chr.iloc[i]['centroid1_interval'].right:\n",
    "                    break\n",
    "                \n",
    "            \n",
    "\n",
    "\n",
    "    return final_df\n"
   ]
  },
  {
   "cell_type": "code",
   "execution_count": 12,
   "metadata": {},
   "outputs": [
    {
     "name": "stderr",
     "output_type": "stream",
     "text": [
      "  0%|          | 0/6057 [00:00<?, ?it/s]"
     ]
    },
    {
     "name": "stdout",
     "output_type": "stream",
     "text": [
      "0\n"
     ]
    },
    {
     "name": "stderr",
     "output_type": "stream",
     "text": [
      "  0%|          | 6/6057 [00:08<2:21:01,  1.40s/it]/tmp/ipykernel_29905/1589260580.py:20: FutureWarning: The frame.append method is deprecated and will be removed from pandas in a future version. Use pandas.concat instead.\n",
      "  final_df = final_df.append(negative_df.iloc[i])\n",
      "  0%|          | 7/6057 [00:09<2:20:51,  1.40s/it]/tmp/ipykernel_29905/1589260580.py:20: FutureWarning: The frame.append method is deprecated and will be removed from pandas in a future version. Use pandas.concat instead.\n",
      "  final_df = final_df.append(negative_df.iloc[i])\n",
      "  0%|          | 8/6057 [00:11<2:20:16,  1.39s/it]/tmp/ipykernel_29905/1589260580.py:20: FutureWarning: The frame.append method is deprecated and will be removed from pandas in a future version. Use pandas.concat instead.\n",
      "  final_df = final_df.append(negative_df.iloc[i])\n",
      "  0%|          | 15/6057 [00:21<2:24:26,  1.43s/it]/tmp/ipykernel_29905/1589260580.py:20: FutureWarning: The frame.append method is deprecated and will be removed from pandas in a future version. Use pandas.concat instead.\n",
      "  final_df = final_df.append(negative_df.iloc[i])\n",
      "  0%|          | 17/6057 [00:24<2:29:42,  1.49s/it]/tmp/ipykernel_29905/1589260580.py:20: FutureWarning: The frame.append method is deprecated and will be removed from pandas in a future version. Use pandas.concat instead.\n",
      "  final_df = final_df.append(negative_df.iloc[i])\n",
      "  0%|          | 18/6057 [00:25<2:26:43,  1.46s/it]/tmp/ipykernel_29905/1589260580.py:20: FutureWarning: The frame.append method is deprecated and will be removed from pandas in a future version. Use pandas.concat instead.\n",
      "  final_df = final_df.append(negative_df.iloc[i])\n",
      "  1%|          | 36/6057 [00:50<2:21:19,  1.41s/it]/tmp/ipykernel_29905/1589260580.py:20: FutureWarning: The frame.append method is deprecated and will be removed from pandas in a future version. Use pandas.concat instead.\n",
      "  final_df = final_df.append(negative_df.iloc[i])\n",
      "  1%|          | 40/6057 [00:56<2:20:29,  1.40s/it]/tmp/ipykernel_29905/1589260580.py:20: FutureWarning: The frame.append method is deprecated and will be removed from pandas in a future version. Use pandas.concat instead.\n",
      "  final_df = final_df.append(negative_df.iloc[i])\n",
      "  1%|          | 46/6057 [01:06<2:24:12,  1.44s/it]\n"
     ]
    },
    {
     "ename": "KeyboardInterrupt",
     "evalue": "",
     "output_type": "error",
     "traceback": [
      "\u001b[0;31m---------------------------------------------------------------------------\u001b[0m",
      "\u001b[0;31mKeyboardInterrupt\u001b[0m                         Traceback (most recent call last)",
      "Cell \u001b[0;32mIn[12], line 4\u001b[0m\n\u001b[1;32m      1\u001b[0m df1 \u001b[39m=\u001b[39m read_HiCCUPS_file(\u001b[39m'\u001b[39m\u001b[39m../data/01_raw/HiCCUPS_looplist/\u001b[39m\u001b[39m'\u001b[39m\u001b[39m+\u001b[39mfiles_list[\u001b[39m0\u001b[39m])\n\u001b[1;32m      2\u001b[0m df2 \u001b[39m=\u001b[39m read_HiCCUPS_file(\u001b[39m'\u001b[39m\u001b[39m../data/01_raw/HiCCUPS_looplist/\u001b[39m\u001b[39m'\u001b[39m\u001b[39m+\u001b[39mfiles_list[\u001b[39m1\u001b[39m])\n\u001b[0;32m----> 4\u001b[0m df \u001b[39m=\u001b[39m add_negative_samples(df1, df2, \u001b[39m'\u001b[39;49m\u001b[39m../data/01_raw/HiCCUPS_looplist/\u001b[39;49m\u001b[39m'\u001b[39;49m\u001b[39m+\u001b[39;49mfiles_list[\u001b[39m0\u001b[39;49m])\n\u001b[1;32m      5\u001b[0m df\n",
      "Cell \u001b[0;32mIn[11], line 18\u001b[0m, in \u001b[0;36madd_negative_samples\u001b[0;34m(positive_df, negative_df, path, n)\u001b[0m\n\u001b[1;32m     16\u001b[0m     \u001b[39mprint\u001b[39m(i)\n\u001b[1;32m     17\u001b[0m f \u001b[39m=\u001b[39m \u001b[39mlambda\u001b[39;00m x: (x[\u001b[39m'\u001b[39m\u001b[39mcentroid1_interval\u001b[39m\u001b[39m'\u001b[39m]\u001b[39m.\u001b[39moverlaps(negative_df\u001b[39m.\u001b[39miloc[i][\u001b[39m'\u001b[39m\u001b[39mcentroid1_interval\u001b[39m\u001b[39m'\u001b[39m]) \u001b[39m&\u001b[39m x[\u001b[39m'\u001b[39m\u001b[39mcentroid2_interval\u001b[39m\u001b[39m'\u001b[39m]\u001b[39m.\u001b[39moverlaps(negative_df\u001b[39m.\u001b[39miloc[i][\u001b[39m'\u001b[39m\u001b[39mcentroid2_interval\u001b[39m\u001b[39m'\u001b[39m]))\n\u001b[0;32m---> 18\u001b[0m positive_df[\u001b[39m'\u001b[39m\u001b[39moverlap\u001b[39m\u001b[39m'\u001b[39m] \u001b[39m=\u001b[39m positive_df\u001b[39m.\u001b[39;49mapply(f, axis\u001b[39m=\u001b[39;49m\u001b[39m1\u001b[39;49m)\n\u001b[1;32m     19\u001b[0m \u001b[39mif\u001b[39;00m \u001b[39mlen\u001b[39m(positive_df[positive_df[\u001b[39m'\u001b[39m\u001b[39moverlap\u001b[39m\u001b[39m'\u001b[39m] \u001b[39m==\u001b[39m \u001b[39mTrue\u001b[39;00m]) \u001b[39m==\u001b[39m \u001b[39m0\u001b[39m:\n\u001b[1;32m     20\u001b[0m     final_df \u001b[39m=\u001b[39m final_df\u001b[39m.\u001b[39mappend(negative_df\u001b[39m.\u001b[39miloc[i])\n",
      "File \u001b[0;32m~/miniconda3/envs/mgr/lib/python3.9/site-packages/pandas/core/frame.py:9568\u001b[0m, in \u001b[0;36mDataFrame.apply\u001b[0;34m(self, func, axis, raw, result_type, args, **kwargs)\u001b[0m\n\u001b[1;32m   9557\u001b[0m \u001b[39mfrom\u001b[39;00m \u001b[39mpandas\u001b[39;00m\u001b[39m.\u001b[39;00m\u001b[39mcore\u001b[39;00m\u001b[39m.\u001b[39;00m\u001b[39mapply\u001b[39;00m \u001b[39mimport\u001b[39;00m frame_apply\n\u001b[1;32m   9559\u001b[0m op \u001b[39m=\u001b[39m frame_apply(\n\u001b[1;32m   9560\u001b[0m     \u001b[39mself\u001b[39m,\n\u001b[1;32m   9561\u001b[0m     func\u001b[39m=\u001b[39mfunc,\n\u001b[0;32m   (...)\u001b[0m\n\u001b[1;32m   9566\u001b[0m     kwargs\u001b[39m=\u001b[39mkwargs,\n\u001b[1;32m   9567\u001b[0m )\n\u001b[0;32m-> 9568\u001b[0m \u001b[39mreturn\u001b[39;00m op\u001b[39m.\u001b[39;49mapply()\u001b[39m.\u001b[39m__finalize__(\u001b[39mself\u001b[39m, method\u001b[39m=\u001b[39m\u001b[39m\"\u001b[39m\u001b[39mapply\u001b[39m\u001b[39m\"\u001b[39m)\n",
      "File \u001b[0;32m~/miniconda3/envs/mgr/lib/python3.9/site-packages/pandas/core/apply.py:764\u001b[0m, in \u001b[0;36mFrameApply.apply\u001b[0;34m(self)\u001b[0m\n\u001b[1;32m    761\u001b[0m \u001b[39melif\u001b[39;00m \u001b[39mself\u001b[39m\u001b[39m.\u001b[39mraw:\n\u001b[1;32m    762\u001b[0m     \u001b[39mreturn\u001b[39;00m \u001b[39mself\u001b[39m\u001b[39m.\u001b[39mapply_raw()\n\u001b[0;32m--> 764\u001b[0m \u001b[39mreturn\u001b[39;00m \u001b[39mself\u001b[39;49m\u001b[39m.\u001b[39;49mapply_standard()\n",
      "File \u001b[0;32m~/miniconda3/envs/mgr/lib/python3.9/site-packages/pandas/core/apply.py:891\u001b[0m, in \u001b[0;36mFrameApply.apply_standard\u001b[0;34m(self)\u001b[0m\n\u001b[1;32m    890\u001b[0m \u001b[39mdef\u001b[39;00m \u001b[39mapply_standard\u001b[39m(\u001b[39mself\u001b[39m):\n\u001b[0;32m--> 891\u001b[0m     results, res_index \u001b[39m=\u001b[39m \u001b[39mself\u001b[39;49m\u001b[39m.\u001b[39;49mapply_series_generator()\n\u001b[1;32m    893\u001b[0m     \u001b[39m# wrap results\u001b[39;00m\n\u001b[1;32m    894\u001b[0m     \u001b[39mreturn\u001b[39;00m \u001b[39mself\u001b[39m\u001b[39m.\u001b[39mwrap_results(results, res_index)\n",
      "File \u001b[0;32m~/miniconda3/envs/mgr/lib/python3.9/site-packages/pandas/core/apply.py:907\u001b[0m, in \u001b[0;36mFrameApply.apply_series_generator\u001b[0;34m(self)\u001b[0m\n\u001b[1;32m    904\u001b[0m \u001b[39mwith\u001b[39;00m option_context(\u001b[39m\"\u001b[39m\u001b[39mmode.chained_assignment\u001b[39m\u001b[39m\"\u001b[39m, \u001b[39mNone\u001b[39;00m):\n\u001b[1;32m    905\u001b[0m     \u001b[39mfor\u001b[39;00m i, v \u001b[39min\u001b[39;00m \u001b[39menumerate\u001b[39m(series_gen):\n\u001b[1;32m    906\u001b[0m         \u001b[39m# ignore SettingWithCopy here in case the user mutates\u001b[39;00m\n\u001b[0;32m--> 907\u001b[0m         results[i] \u001b[39m=\u001b[39m \u001b[39mself\u001b[39;49m\u001b[39m.\u001b[39;49mf(v)\n\u001b[1;32m    908\u001b[0m         \u001b[39mif\u001b[39;00m \u001b[39misinstance\u001b[39m(results[i], ABCSeries):\n\u001b[1;32m    909\u001b[0m             \u001b[39m# If we have a view on v, we need to make a copy because\u001b[39;00m\n\u001b[1;32m    910\u001b[0m             \u001b[39m#  series_generator will swap out the underlying data\u001b[39;00m\n\u001b[1;32m    911\u001b[0m             results[i] \u001b[39m=\u001b[39m results[i]\u001b[39m.\u001b[39mcopy(deep\u001b[39m=\u001b[39m\u001b[39mFalse\u001b[39;00m)\n",
      "Cell \u001b[0;32mIn[11], line 17\u001b[0m, in \u001b[0;36madd_negative_samples.<locals>.<lambda>\u001b[0;34m(x)\u001b[0m\n\u001b[1;32m     15\u001b[0m \u001b[39mif\u001b[39;00m i \u001b[39m%\u001b[39m \u001b[39m1000\u001b[39m \u001b[39m==\u001b[39m \u001b[39m0\u001b[39m:\n\u001b[1;32m     16\u001b[0m     \u001b[39mprint\u001b[39m(i)\n\u001b[0;32m---> 17\u001b[0m f \u001b[39m=\u001b[39m \u001b[39mlambda\u001b[39;00m x: (x[\u001b[39m'\u001b[39m\u001b[39mcentroid1_interval\u001b[39m\u001b[39m'\u001b[39m]\u001b[39m.\u001b[39moverlaps(negative_df\u001b[39m.\u001b[39miloc[i][\u001b[39m'\u001b[39m\u001b[39mcentroid1_interval\u001b[39m\u001b[39m'\u001b[39m]) \u001b[39m&\u001b[39m x[\u001b[39m'\u001b[39m\u001b[39mcentroid2_interval\u001b[39m\u001b[39m'\u001b[39m]\u001b[39m.\u001b[39moverlaps(negative_df\u001b[39m.\u001b[39;49miloc[i][\u001b[39m'\u001b[39m\u001b[39mcentroid2_interval\u001b[39m\u001b[39m'\u001b[39m]))\n\u001b[1;32m     18\u001b[0m positive_df[\u001b[39m'\u001b[39m\u001b[39moverlap\u001b[39m\u001b[39m'\u001b[39m] \u001b[39m=\u001b[39m positive_df\u001b[39m.\u001b[39mapply(f, axis\u001b[39m=\u001b[39m\u001b[39m1\u001b[39m)\n\u001b[1;32m     19\u001b[0m \u001b[39mif\u001b[39;00m \u001b[39mlen\u001b[39m(positive_df[positive_df[\u001b[39m'\u001b[39m\u001b[39moverlap\u001b[39m\u001b[39m'\u001b[39m] \u001b[39m==\u001b[39m \u001b[39mTrue\u001b[39;00m]) \u001b[39m==\u001b[39m \u001b[39m0\u001b[39m:\n",
      "File \u001b[0;32m~/miniconda3/envs/mgr/lib/python3.9/site-packages/pandas/core/indexing.py:1073\u001b[0m, in \u001b[0;36m_LocationIndexer.__getitem__\u001b[0;34m(self, key)\u001b[0m\n\u001b[1;32m   1070\u001b[0m axis \u001b[39m=\u001b[39m \u001b[39mself\u001b[39m\u001b[39m.\u001b[39maxis \u001b[39mor\u001b[39;00m \u001b[39m0\u001b[39m\n\u001b[1;32m   1072\u001b[0m maybe_callable \u001b[39m=\u001b[39m com\u001b[39m.\u001b[39mapply_if_callable(key, \u001b[39mself\u001b[39m\u001b[39m.\u001b[39mobj)\n\u001b[0;32m-> 1073\u001b[0m \u001b[39mreturn\u001b[39;00m \u001b[39mself\u001b[39;49m\u001b[39m.\u001b[39;49m_getitem_axis(maybe_callable, axis\u001b[39m=\u001b[39;49maxis)\n",
      "File \u001b[0;32m~/miniconda3/envs/mgr/lib/python3.9/site-packages/pandas/core/indexing.py:1627\u001b[0m, in \u001b[0;36m_iLocIndexer._getitem_axis\u001b[0;34m(self, key, axis)\u001b[0m\n\u001b[1;32m   1624\u001b[0m \u001b[39m# validate the location\u001b[39;00m\n\u001b[1;32m   1625\u001b[0m \u001b[39mself\u001b[39m\u001b[39m.\u001b[39m_validate_integer(key, axis)\n\u001b[0;32m-> 1627\u001b[0m \u001b[39mreturn\u001b[39;00m \u001b[39mself\u001b[39;49m\u001b[39m.\u001b[39;49mobj\u001b[39m.\u001b[39;49m_ixs(key, axis\u001b[39m=\u001b[39;49maxis)\n",
      "File \u001b[0;32m~/miniconda3/envs/mgr/lib/python3.9/site-packages/pandas/core/frame.py:3720\u001b[0m, in \u001b[0;36mDataFrame._ixs\u001b[0;34m(self, i, axis)\u001b[0m\n\u001b[1;32m   3718\u001b[0m \u001b[39m# if we are a copy, mark as such\u001b[39;00m\n\u001b[1;32m   3719\u001b[0m copy \u001b[39m=\u001b[39m \u001b[39misinstance\u001b[39m(new_mgr\u001b[39m.\u001b[39marray, np\u001b[39m.\u001b[39mndarray) \u001b[39mand\u001b[39;00m new_mgr\u001b[39m.\u001b[39marray\u001b[39m.\u001b[39mbase \u001b[39mis\u001b[39;00m \u001b[39mNone\u001b[39;00m\n\u001b[0;32m-> 3720\u001b[0m result \u001b[39m=\u001b[39m \u001b[39mself\u001b[39;49m\u001b[39m.\u001b[39;49m_constructor_sliced(new_mgr, name\u001b[39m=\u001b[39;49m\u001b[39mself\u001b[39;49m\u001b[39m.\u001b[39;49mindex[i])\u001b[39m.\u001b[39m__finalize__(\n\u001b[1;32m   3721\u001b[0m     \u001b[39mself\u001b[39m\n\u001b[1;32m   3722\u001b[0m )\n\u001b[1;32m   3723\u001b[0m result\u001b[39m.\u001b[39m_set_is_copy(\u001b[39mself\u001b[39m, copy\u001b[39m=\u001b[39mcopy)\n\u001b[1;32m   3724\u001b[0m \u001b[39mreturn\u001b[39;00m result\n",
      "File \u001b[0;32m~/miniconda3/envs/mgr/lib/python3.9/site-packages/pandas/core/series.py:359\u001b[0m, in \u001b[0;36mSeries.__init__\u001b[0;34m(self, data, index, dtype, name, copy, fastpath)\u001b[0m\n\u001b[1;32m    342\u001b[0m \u001b[39mdef\u001b[39;00m \u001b[39m__init__\u001b[39m(\n\u001b[1;32m    343\u001b[0m     \u001b[39mself\u001b[39m,\n\u001b[1;32m    344\u001b[0m     data\u001b[39m=\u001b[39m\u001b[39mNone\u001b[39;00m,\n\u001b[0;32m   (...)\u001b[0m\n\u001b[1;32m    349\u001b[0m     fastpath: \u001b[39mbool\u001b[39m \u001b[39m=\u001b[39m \u001b[39mFalse\u001b[39;00m,\n\u001b[1;32m    350\u001b[0m ) \u001b[39m-\u001b[39m\u001b[39m>\u001b[39m \u001b[39mNone\u001b[39;00m:\n\u001b[1;32m    352\u001b[0m     \u001b[39mif\u001b[39;00m (\n\u001b[1;32m    353\u001b[0m         \u001b[39misinstance\u001b[39m(data, (SingleBlockManager, SingleArrayManager))\n\u001b[1;32m    354\u001b[0m         \u001b[39mand\u001b[39;00m index \u001b[39mis\u001b[39;00m \u001b[39mNone\u001b[39;00m\n\u001b[0;32m   (...)\u001b[0m\n\u001b[1;32m    357\u001b[0m     ):\n\u001b[1;32m    358\u001b[0m         \u001b[39m# GH#33357 called with just the SingleBlockManager\u001b[39;00m\n\u001b[0;32m--> 359\u001b[0m         NDFrame\u001b[39m.\u001b[39;49m\u001b[39m__init__\u001b[39;49m(\u001b[39mself\u001b[39;49m, data)\n\u001b[1;32m    360\u001b[0m         \u001b[39mif\u001b[39;00m fastpath:\n\u001b[1;32m    361\u001b[0m             \u001b[39m# e.g. from _box_col_values, skip validation of name\u001b[39;00m\n\u001b[1;32m    362\u001b[0m             \u001b[39mobject\u001b[39m\u001b[39m.\u001b[39m\u001b[39m__setattr__\u001b[39m(\u001b[39mself\u001b[39m, \u001b[39m\"\u001b[39m\u001b[39m_name\u001b[39m\u001b[39m\"\u001b[39m, name)\n",
      "File \u001b[0;32m~/miniconda3/envs/mgr/lib/python3.9/site-packages/pandas/core/generic.py:275\u001b[0m, in \u001b[0;36mNDFrame.__init__\u001b[0;34m(self, data, copy, attrs)\u001b[0m\n\u001b[1;32m    273\u001b[0m     attrs \u001b[39m=\u001b[39m \u001b[39mdict\u001b[39m(attrs)\n\u001b[1;32m    274\u001b[0m \u001b[39mobject\u001b[39m\u001b[39m.\u001b[39m\u001b[39m__setattr__\u001b[39m(\u001b[39mself\u001b[39m, \u001b[39m\"\u001b[39m\u001b[39m_attrs\u001b[39m\u001b[39m\"\u001b[39m, attrs)\n\u001b[0;32m--> 275\u001b[0m \u001b[39mobject\u001b[39m\u001b[39m.\u001b[39m\u001b[39m__setattr__\u001b[39m(\u001b[39mself\u001b[39m, \u001b[39m\"\u001b[39m\u001b[39m_flags\u001b[39m\u001b[39m\"\u001b[39m, Flags(\u001b[39mself\u001b[39;49m, allows_duplicate_labels\u001b[39m=\u001b[39;49m\u001b[39mTrue\u001b[39;49;00m))\n",
      "\u001b[0;31mKeyboardInterrupt\u001b[0m: "
     ]
    }
   ],
   "source": [
    "df1 = read_HiCCUPS_file('../data/01_raw/HiCCUPS_looplist/'+files_list[0])\n",
    "df2 = read_HiCCUPS_file('../data/01_raw/HiCCUPS_looplist/'+files_list[1])\n",
    "\n",
    "df = add_negative_samples(df1, df2, '../data/01_raw/HiCCUPS_looplist/'+files_list[0])\n",
    "df"
   ]
  },
  {
   "cell_type": "code",
   "execution_count": 5,
   "metadata": {},
   "outputs": [
    {
     "name": "stderr",
     "output_type": "stream",
     "text": [
      "  0%|          | 0/8 [04:06<?, ?it/s]\n"
     ]
    },
    {
     "ename": "",
     "evalue": "",
     "output_type": "error",
     "traceback": [
      "\u001b[1;31mCanceled future for execute_request message before replies were done"
     ]
    },
    {
     "ename": "",
     "evalue": "",
     "output_type": "error",
     "traceback": [
      "\u001b[1;31mThe Kernel crashed while executing code in the the current cell or a previous cell. Please review the code in the cell(s) to identify a possible cause of the failure. Click <a href='https://aka.ms/vscodeJupyterKernelCrash'>here</a> for more info. View Jupyter <a href='command:jupyter.viewOutput'>log</a> for further details."
     ]
    }
   ],
   "source": [
    "dataframes = [read_HiCCUPS_file('../data/01_raw/HiCCUPS_looplist/'+file) for file in files_list]\n",
    "\n",
    "for i in tqdm(range(len(dataframes))):\n",
    "    positive_df = dataframes[i]\n",
    "    negative_df = pd.concat(dataframes[:i]+dataframes[i+1:])\n",
    "    df = add_negative_samples(positive_df, negative_df, '../data/01_raw/HiCCUPS_looplist/'+files_list[i])\n",
    "    break\n",
    "\n",
    "df"
   ]
  }
 ],
 "metadata": {
  "kernelspec": {
   "display_name": "mgr",
   "language": "python",
   "name": "python3"
  },
  "language_info": {
   "codemirror_mode": {
    "name": "ipython",
    "version": 3
   },
   "file_extension": ".py",
   "mimetype": "text/x-python",
   "name": "python",
   "nbconvert_exporter": "python",
   "pygments_lexer": "ipython3",
   "version": "3.9.11"
  },
  "orig_nbformat": 4
 },
 "nbformat": 4,
 "nbformat_minor": 2
}
