{
 "cells": [
  {
   "cell_type": "code",
   "execution_count": 1,
   "metadata": {},
   "outputs": [],
   "source": [
    "import pyBigWig"
   ]
  },
  {
   "cell_type": "code",
   "execution_count": 3,
   "metadata": {},
   "outputs": [],
   "source": [
    "bw = pyBigWig.open('../data/01_raw/DNase_seq_bigWig/ENCFF901GZH.bigWig')"
   ]
  },
  {
   "cell_type": "code",
   "execution_count": 16,
   "metadata": {},
   "outputs": [
    {
     "data": {
      "text/plain": [
       "((235625, 235645, 0.0958935022354126),\n",
       " (235645, 235665, 0.1198669970035553),\n",
       " (235665, 235685, 0.2157599925994873),\n",
       " (235685, 235705, 0.2637070119380951),\n",
       " (235705, 235725, 0.2637070119380951),\n",
       " (235725, 235745, 0.2397339940071106),\n",
       " (235745, 235765, 0.1917870044708252),\n",
       " (235765, 235785, 0.1917870044708252))"
      ]
     },
     "execution_count": 16,
     "metadata": {},
     "output_type": "execute_result"
    }
   ],
   "source": [
    "a = bw.intervals('chr1', 235633, 235783)\n",
    "a"
   ]
  },
  {
   "cell_type": "code",
   "execution_count": 22,
   "metadata": {},
   "outputs": [],
   "source": [
    "def trimm_intervals(intervals: tuple, start: int, end: int):\n",
    "    \"\"\"\n",
    "    Trim intervals to the range [start, end].\n",
    "    Args:\n",
    "        intervals: tuple with intervals.\n",
    "        start: start of the range.\n",
    "        end: end of the range.\n",
    "    Returns:\n",
    "        trimmed intervals.\n",
    "    \"\"\"\n",
    "    trimmed_intervals = []\n",
    "    for interval in intervals:\n",
    "        if interval[0] < start:\n",
    "            interval = (start, interval[1], interval[2])\n",
    "        if interval[1] > end:\n",
    "            interval = (interval[0], end, interval[2])\n",
    "        trimmed_intervals.append(interval)\n",
    "\n",
    "    return tuple(trimmed_intervals)"
   ]
  },
  {
   "cell_type": "code",
   "execution_count": 23,
   "metadata": {},
   "outputs": [
    {
     "data": {
      "text/plain": [
       "((235633, 235645, 0.0958935022354126),\n",
       " (235645, 235665, 0.1198669970035553),\n",
       " (235665, 235685, 0.2157599925994873),\n",
       " (235685, 235705, 0.2637070119380951),\n",
       " (235705, 235725, 0.2637070119380951),\n",
       " (235725, 235745, 0.2397339940071106),\n",
       " (235745, 235765, 0.1917870044708252),\n",
       " (235765, 235783, 0.1917870044708252))"
      ]
     },
     "execution_count": 23,
     "metadata": {},
     "output_type": "execute_result"
    }
   ],
   "source": [
    "trimm_intervals(a, 235633, 235783)"
   ]
  },
  {
   "cell_type": "code",
   "execution_count": 52,
   "metadata": {},
   "outputs": [
    {
     "data": {
      "text/plain": [
       "0.20329418897628784"
      ]
     },
     "execution_count": 52,
     "metadata": {},
     "output_type": "execute_result"
    }
   ],
   "source": [
    "t = ((235633, 235645, 0.0958935022354126),\n",
    " (235645, 235665, 0.1198669970035553),\n",
    " (235665, 235685, 0.2157599925994873),\n",
    " (235685, 235705, 0.2637070119380951),\n",
    " (235705, 235725, 0.2637070119380951),\n",
    " (235725, 235745, 0.2397339940071106),\n",
    " (235745, 235765, 0.1917870044708252),\n",
    " (235765, 235783, 0.1917870044708252))\n",
    "\n",
    "# mean\n",
    "sum([x[2]*(x[1]-x[0]) for x in t])/(235783-235633)"
   ]
  },
  {
   "cell_type": "code",
   "execution_count": 6,
   "metadata": {},
   "outputs": [],
   "source": [
    "import pandas as pd"
   ]
  },
  {
   "cell_type": "code",
   "execution_count": 24,
   "metadata": {},
   "outputs": [
    {
     "data": {
      "text/html": [
       "<div>\n",
       "<style scoped>\n",
       "    .dataframe tbody tr th:only-of-type {\n",
       "        vertical-align: middle;\n",
       "    }\n",
       "\n",
       "    .dataframe tbody tr th {\n",
       "        vertical-align: top;\n",
       "    }\n",
       "\n",
       "    .dataframe thead th {\n",
       "        text-align: right;\n",
       "    }\n",
       "</style>\n",
       "<table border=\"1\" class=\"dataframe\">\n",
       "  <thead>\n",
       "    <tr style=\"text-align: right;\">\n",
       "      <th></th>\n",
       "      <th>chr1</th>\n",
       "      <th>x1</th>\n",
       "      <th>x2</th>\n",
       "    </tr>\n",
       "  </thead>\n",
       "  <tbody>\n",
       "    <tr>\n",
       "      <th>0</th>\n",
       "      <td>chr10</td>\n",
       "      <td>100225000</td>\n",
       "      <td>100230000</td>\n",
       "    </tr>\n",
       "    <tr>\n",
       "      <th>1</th>\n",
       "      <td>chr10</td>\n",
       "      <td>100225000</td>\n",
       "      <td>100230000</td>\n",
       "    </tr>\n",
       "    <tr>\n",
       "      <th>2</th>\n",
       "      <td>chr10</td>\n",
       "      <td>101190000</td>\n",
       "      <td>101195000</td>\n",
       "    </tr>\n",
       "    <tr>\n",
       "      <th>3</th>\n",
       "      <td>chr10</td>\n",
       "      <td>101190000</td>\n",
       "      <td>101200000</td>\n",
       "    </tr>\n",
       "    <tr>\n",
       "      <th>4</th>\n",
       "      <td>chr10</td>\n",
       "      <td>101600000</td>\n",
       "      <td>101605000</td>\n",
       "    </tr>\n",
       "  </tbody>\n",
       "</table>\n",
       "</div>"
      ],
      "text/plain": [
       "    chr1         x1         x2\n",
       "0  chr10  100225000  100230000\n",
       "1  chr10  100225000  100230000\n",
       "2  chr10  101190000  101195000\n",
       "3  chr10  101190000  101200000\n",
       "4  chr10  101600000  101605000"
      ]
     },
     "execution_count": 24,
     "metadata": {},
     "output_type": "execute_result"
    }
   ],
   "source": [
    "df = pd.read_csv('../data/01_raw/HiC_loops_annotations/GSE63525_GM12878_primary+replicate_HiCCUPS_looplist.txt', sep='\\t')\n",
    "df = df[['chr1', 'x1', 'x2']]\n",
    "f = lambda x: 'chr' + str(x)\n",
    "df['chr1'] = df['chr1'].apply(f)\n",
    "df.head()"
   ]
  },
  {
   "cell_type": "code",
   "execution_count": 28,
   "metadata": {},
   "outputs": [
    {
     "data": {
      "text/html": [
       "<div>\n",
       "<style scoped>\n",
       "    .dataframe tbody tr th:only-of-type {\n",
       "        vertical-align: middle;\n",
       "    }\n",
       "\n",
       "    .dataframe tbody tr th {\n",
       "        vertical-align: top;\n",
       "    }\n",
       "\n",
       "    .dataframe thead th {\n",
       "        text-align: right;\n",
       "    }\n",
       "</style>\n",
       "<table border=\"1\" class=\"dataframe\">\n",
       "  <thead>\n",
       "    <tr style=\"text-align: right;\">\n",
       "      <th></th>\n",
       "      <th>chr1</th>\n",
       "      <th>x1</th>\n",
       "      <th>x2</th>\n",
       "      <th>intervals</th>\n",
       "      <th>intervals_trimmed</th>\n",
       "    </tr>\n",
       "  </thead>\n",
       "  <tbody>\n",
       "    <tr>\n",
       "      <th>0</th>\n",
       "      <td>chr10</td>\n",
       "      <td>100225000</td>\n",
       "      <td>100230000</td>\n",
       "      <td>((100224985, 100225005, 0.02397339977324009), ...</td>\n",
       "      <td>((100225000, 100225005, 0.02397339977324009), ...</td>\n",
       "    </tr>\n",
       "    <tr>\n",
       "      <th>1</th>\n",
       "      <td>chr10</td>\n",
       "      <td>100225000</td>\n",
       "      <td>100230000</td>\n",
       "      <td>((100224985, 100225005, 0.02397339977324009), ...</td>\n",
       "      <td>((100225000, 100225005, 0.02397339977324009), ...</td>\n",
       "    </tr>\n",
       "    <tr>\n",
       "      <th>2</th>\n",
       "      <td>chr10</td>\n",
       "      <td>101190000</td>\n",
       "      <td>101195000</td>\n",
       "      <td>((101189985, 101190005, 0.0958935022354126), (...</td>\n",
       "      <td>((101190000, 101190005, 0.0958935022354126), (...</td>\n",
       "    </tr>\n",
       "    <tr>\n",
       "      <th>3</th>\n",
       "      <td>chr10</td>\n",
       "      <td>101190000</td>\n",
       "      <td>101200000</td>\n",
       "      <td>((101189985, 101190005, 0.0958935022354126), (...</td>\n",
       "      <td>((101190000, 101190005, 0.0958935022354126), (...</td>\n",
       "    </tr>\n",
       "    <tr>\n",
       "      <th>4</th>\n",
       "      <td>chr10</td>\n",
       "      <td>101600000</td>\n",
       "      <td>101605000</td>\n",
       "      <td>((101599985, 101600005, 0.0), (101600005, 1016...</td>\n",
       "      <td>((101600000, 101600005, 0.0), (101600005, 1016...</td>\n",
       "    </tr>\n",
       "  </tbody>\n",
       "</table>\n",
       "</div>"
      ],
      "text/plain": [
       "    chr1         x1         x2  \\\n",
       "0  chr10  100225000  100230000   \n",
       "1  chr10  100225000  100230000   \n",
       "2  chr10  101190000  101195000   \n",
       "3  chr10  101190000  101200000   \n",
       "4  chr10  101600000  101605000   \n",
       "\n",
       "                                           intervals  \\\n",
       "0  ((100224985, 100225005, 0.02397339977324009), ...   \n",
       "1  ((100224985, 100225005, 0.02397339977324009), ...   \n",
       "2  ((101189985, 101190005, 0.0958935022354126), (...   \n",
       "3  ((101189985, 101190005, 0.0958935022354126), (...   \n",
       "4  ((101599985, 101600005, 0.0), (101600005, 1016...   \n",
       "\n",
       "                                   intervals_trimmed  \n",
       "0  ((100225000, 100225005, 0.02397339977324009), ...  \n",
       "1  ((100225000, 100225005, 0.02397339977324009), ...  \n",
       "2  ((101190000, 101190005, 0.0958935022354126), (...  \n",
       "3  ((101190000, 101190005, 0.0958935022354126), (...  \n",
       "4  ((101600000, 101600005, 0.0), (101600005, 1016...  "
      ]
     },
     "execution_count": 28,
     "metadata": {},
     "output_type": "execute_result"
    }
   ],
   "source": [
    "f1 = lambda x: bw.intervals(x['chr1'], x['x1'], x['x2'])\n",
    "f2 = lambda x: trimm_intervals(x['intervals'], x['x1'], x['x2'])\n",
    "df['intervals'] = df.apply(lambda x: bw.intervals(x['chr1'], x['x1'], x['x2']), axis=1)\n",
    "df['intervals_trimmed'] = df.apply(lambda x: trimm_intervals(x['intervals'], x['x1'], x['x2']), axis=1)\n",
    "df.head()"
   ]
  }
 ],
 "metadata": {
  "kernelspec": {
   "display_name": "mgr",
   "language": "python",
   "name": "python3"
  },
  "language_info": {
   "codemirror_mode": {
    "name": "ipython",
    "version": 3
   },
   "file_extension": ".py",
   "mimetype": "text/x-python",
   "name": "python",
   "nbconvert_exporter": "python",
   "pygments_lexer": "ipython3",
   "version": "3.9.11"
  },
  "orig_nbformat": 4
 },
 "nbformat": 4,
 "nbformat_minor": 2
}
